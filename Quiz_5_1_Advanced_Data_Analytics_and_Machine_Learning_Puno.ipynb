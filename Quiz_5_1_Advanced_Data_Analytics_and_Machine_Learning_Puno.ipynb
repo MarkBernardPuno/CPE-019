{
  "nbformat": 4,
  "nbformat_minor": 0,
  "metadata": {
    "colab": {
      "provenance": [],
      "authorship_tag": "ABX9TyOYSYT1pm3xZ4rSoO/Sp/v0",
      "include_colab_link": true
    },
    "kernelspec": {
      "name": "python3",
      "display_name": "Python 3"
    },
    "language_info": {
      "name": "python"
    }
  },
  "cells": [
    {
      "cell_type": "markdown",
      "metadata": {
        "id": "view-in-github",
        "colab_type": "text"
      },
      "source": [
        "<a href=\"https://colab.research.google.com/github/MarkBernardPuno/CPE-019/blob/main/Quiz_5_1_Advanced_Data_Analytics_and_Machine_Learning_Puno.ipynb\" target=\"_parent\"><img src=\"https://colab.research.google.com/assets/colab-badge.svg\" alt=\"Open In Colab\"/></a>"
      ]
    },
    {
      "cell_type": "markdown",
      "source": [
        "Name: Puno, Mark Bernard N.<br>\n",
        "Course and Section: CPE019 - CPE32S4 <br>\n",
        "Date of Submission: 02/19/2025 <br>\n",
        "Instructor: Dr. Richard Monreal<br>"
      ],
      "metadata": {
        "id": "r2LVEOEUbSwL"
      }
    },
    {
      "cell_type": "markdown",
      "source": [
        "# **SET C**"
      ],
      "metadata": {
        "id": "m6tNkgQocF8q"
      }
    },
    {
      "cell_type": "code",
      "source": [
        "import pandas as pd\n",
        "import numpy as np\n",
        "\n",
        "exam_data = {'name': ['Anastasia', 'Dima', 'Katherine', 'James', 'Emily', 'Michael', 'Matthew', 'Laura', 'Kevin', 'Jonas'],\n",
        "'score': [12.5, 9, 16.5, 9, 20, 14.5, 8, 19, np.nan, np.nan],\n",
        "'attempts': [1, 3, 2, 3, 2, 3, 1, 1, 2, 1],\n",
        "'qualify': ['yes', 'no', 'yes', 'no', 'no', 'yes', 'yes', 'no', 'no', 'yes']}\n",
        "labels = ['a', 'b', 'c', 'd', 'e', 'f', 'g', 'h', 'i', 'j']"
      ],
      "metadata": {
        "id": "iV-7ciCUgTRg"
      },
      "execution_count": 20,
      "outputs": []
    },
    {
      "cell_type": "code",
      "source": [
        "df = pd.DataFrame(exam_data, index=labels)\n",
        "filtered_df = df[df['score'].between(15, 20)]\n",
        "print(filtered_df)"
      ],
      "metadata": {
        "colab": {
          "base_uri": "https://localhost:8080/"
        },
        "id": "RwCGK0cQgX0h",
        "outputId": "52d1eea8-20de-449a-9b60-88e7d473c701"
      },
      "execution_count": 21,
      "outputs": [
        {
          "output_type": "stream",
          "name": "stdout",
          "text": [
            "        name  score  attempts qualify\n",
            "c  Katherine   16.5         2     yes\n",
            "e      Emily   20.0         2      no\n",
            "h      Laura   19.0         1      no\n"
          ]
        }
      ]
    },
    {
      "cell_type": "markdown",
      "source": [
        "exam_data holds the data for the exam and it contains the name, score, attempts and qualify status of the ten students. Labels determine the index names for each student. df creates a dataframe from the exam_data and labels list as the index. filtered_df filters the score in the dataframe. print(filtered_df) it prints the filtered_df outputs."
      ],
      "metadata": {
        "id": "fwDTGFnngYxY"
      }
    }
  ]
}